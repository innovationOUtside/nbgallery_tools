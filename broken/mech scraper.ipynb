{
 "cells": [
  {
   "cell_type": "code",
   "execution_count": 5,
   "metadata": {},
   "outputs": [],
   "source": [
    "import mechanize"
   ]
  },
  {
   "cell_type": "code",
   "execution_count": 75,
   "metadata": {},
   "outputs": [],
   "source": [
    "from mechanize import Browser\n",
    "br = Browser()"
   ]
  },
  {
   "cell_type": "code",
   "execution_count": 76,
   "metadata": {},
   "outputs": [
    {
     "data": {
      "text/plain": [
       "<response_seek_wrapper at 0x105c91a70 whose wrapped object = <closeable_response at 0x105c91098 whose fp = <socket._fileobject object at 0x1055ca5d0>>>"
      ]
     },
     "execution_count": 76,
     "metadata": {},
     "output_type": "execute_result"
    }
   ],
   "source": [
    "LOGIN_URL='http://localhost:3000/'\n",
    "FORM_NAME='sign_in_user'\n",
    "\n",
    "br.open(LOGIN_URL)\n",
    "\n",
    "br.select_form(id=FORM_NAME)\n",
    "br[\"user[email]\"] = 'tony.hirst@gmail.com'\n",
    "br[\"user[password]\"] = 'letmein1'\n",
    "br.submit()"
   ]
  },
  {
   "cell_type": "code",
   "execution_count": 93,
   "metadata": {},
   "outputs": [],
   "source": [
    "url='http://localhost:3000/'\n",
    "br.open(url)\n",
    "br.select_form(id='uploadFileForm')"
   ]
  },
  {
   "cell_type": "code",
   "execution_count": 94,
   "metadata": {},
   "outputs": [],
   "source": [
    "#br.find_control(type=\"checkbox\").items\n",
    "br.find_control(type=\"checkbox\").items[0].selected =True"
   ]
  },
  {
   "cell_type": "code",
   "execution_count": 95,
   "metadata": {},
   "outputs": [],
   "source": [
    "br.form.add_file(open('/Users/tonyhirst/notebooks/Untitled.ipynb','r'))"
   ]
  },
  {
   "cell_type": "code",
   "execution_count": 96,
   "metadata": {},
   "outputs": [],
   "source": [
    "s=br.submit()"
   ]
  },
  {
   "cell_type": "code",
   "execution_count": 81,
   "metadata": {},
   "outputs": [],
   "source": [
    "br.select_form(id='stageForm')"
   ]
  },
  {
   "cell_type": "code",
   "execution_count": 82,
   "metadata": {},
   "outputs": [],
   "source": [
    "br.form['title'] = 'ss-form'\n",
    "br.form['description'] = 'jasgjh asFSaf'\n",
    "br.form['tags'] = 'ss,dfdg'"
   ]
  },
  {
   "cell_type": "code",
   "execution_count": 83,
   "metadata": {},
   "outputs": [],
   "source": [
    "br.find_control(type=\"checkbox\", name='agree').items[0].selected = True"
   ]
  },
  {
   "cell_type": "code",
   "execution_count": 84,
   "metadata": {},
   "outputs": [
    {
     "data": {
      "text/plain": [
       "<response_seek_wrapper at 0x1057c3f38 whose wrapped object = <closeable_response at 0x1055b1830 whose fp = <socket._fileobject object at 0x105c873d0>>>"
      ]
     },
     "execution_count": 84,
     "metadata": {},
     "output_type": "execute_result"
    }
   ],
   "source": [
    "br.submit()"
   ]
  },
  {
   "cell_type": "code",
   "execution_count": null,
   "metadata": {},
   "outputs": [],
   "source": []
  }
 ],
 "metadata": {
  "kernelspec": {
   "display_name": "Python 2",
   "language": "python",
   "name": "python2"
  },
  "language_info": {
   "codemirror_mode": {
    "name": "ipython",
    "version": 2
   },
   "file_extension": ".py",
   "mimetype": "text/x-python",
   "name": "python",
   "nbconvert_exporter": "python",
   "pygments_lexer": "ipython2",
   "version": "2.7.15"
  }
 },
 "nbformat": 4,
 "nbformat_minor": 2
}
