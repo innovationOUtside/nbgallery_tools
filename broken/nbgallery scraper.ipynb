{
 "cells": [
  {
   "cell_type": "code",
   "execution_count": 10,
   "metadata": {},
   "outputs": [],
   "source": [
    "import getpass\n",
    "import time\n",
    "import mechanicalsoup\n",
    "import random\n",
    "from bs4 import BeautifulSoup\n",
    "import unicodedata\n",
    "\n",
    "    \n",
    "def credentials():\n",
    "    ''' Prompt user for login credentials. '''\n",
    "    USERNAME = input(\"nbgallery ID: \")\n",
    "    PASSWORD = getpass.getpass(\"nbgallery pwd:\")\n",
    "    return USERNAME, PASSWORD\n",
    "\n",
    "\n",
    "def getSession(USERNAME,PASSWORD):\n",
    "    ''' Login to nbgallery using provided credentials. '''\n",
    "    LOGIN_URL='http://localhost:3000/'\n",
    "    FORM_ID='#sign_in_user'\n",
    "    \n",
    "    browser = mechanicalsoup.StatefulBrowser( )\n",
    "    browser.open(LOGIN_URL)\n",
    "    browser.select_form(FORM_ID) #in form: #loginForm\n",
    "    #The following are the form name attributes\n",
    "    browser[\"user[email]\"] = USERNAME\n",
    "    browser[\"user[password]\"] = PASSWORD\n",
    "    resp = browser.submit_selected()\n",
    "    return browser\n",
    "\n",
    "def _get_page(s, url):\n",
    "    ''' Retrieve a page given its URL. '''\n",
    "    #Play nice\n",
    "    time.sleep(random.uniform(0.1, 0.3))\n",
    "    \n",
    "    r=s.open(url)\n",
    "    return r\n",
    "\n",
    "def _search_by_code(s,code, structured=False):\n",
    "    ''' Search for VLE sites associated with a particular module code. '''\n",
    "    surl='https://learn2.open.ac.uk/course/search.php?search={}'.format(code)\n",
    "    search = _get_page(s, surl)\n",
    "    soup = BeautifulSoup(search.content, \"lxml\")\n",
    "    links = [h3.find_next('a') for h3 in soup.find_all(\"h3\",{'class':'coursename'})]\n",
    "    module_links=[]\n",
    "    for link in links:\n",
    "        if link.get('href'):\n",
    "            #https://stackoverflow.com/a/22497114/454773\n",
    "            for link_txt in link.findAll('span'):\n",
    "                link_txt.unwrap()\n",
    "                module_links.append( (link.text,link.get('href')) )\n",
    "    if not structured: return module_links\n",
    "    return [{'title':t,'url':u,\n",
    "             'codepres':t.split()[0],\n",
    "             'code':t.split()[0].split('-')[0]} for t,u in module_links]\n",
    "\n",
    "def _search_focus(s):\n",
    "    ''' Prompter for searching for a VLE module by module code or module-presentation code. '''\n",
    "    code = input(\"Module code (e.g. TM351 or TM129-17J): \")\n",
    "    results = _search_by_code(s,code)\n",
    "    if not len(results):\n",
    "        print('Nothing found for \"{}\"'.format(code))\n",
    "    elif len(results)>1:\n",
    "        print(\"Please be more specific:\\n\\t{}\\n\".format('\\n\\t'.join([r[0].split(' ')[0] for r in results])))\n",
    "    else: return results[0]\n",
    "    return None"
   ]
  },
  {
   "cell_type": "code",
   "execution_count": 8,
   "metadata": {},
   "outputs": [
    {
     "name": "stdout",
     "output_type": "stream",
     "text": [
      "nbgallery ID: tony.hirst@gmail.com\n",
      "OU pwd:········\n"
     ]
    }
   ],
   "source": [
    "u,p=credentials()"
   ]
  },
  {
   "cell_type": "code",
   "execution_count": 138,
   "metadata": {},
   "outputs": [],
   "source": [
    "br = getSession(u,p)"
   ]
  },
  {
   "cell_type": "code",
   "execution_count": 139,
   "metadata": {},
   "outputs": [],
   "source": [
    "#br = ms.StatefulBrowser(raise_on_404=True)\n",
    "#br.open('http://www.csm-testcenter.org/test?do=show&subdo=common&test=file_upload')\n",
    "#form = br.select_form()\n",
    "#form['file_upload'] = '/path/to/some/file'\n",
    "#br.submit_selected()"
   ]
  },
  {
   "cell_type": "code",
   "execution_count": 165,
   "metadata": {},
   "outputs": [],
   "source": [
    "url='http://localhost:3000/'\n",
    "br.open(url)\n",
    "form = br.select_form('#uploadFileForm')"
   ]
  },
  {
   "cell_type": "code",
   "execution_count": 166,
   "metadata": {},
   "outputs": [],
   "source": [
    "form.set_checkbox({'agree':True})"
   ]
  },
  {
   "cell_type": "code",
   "execution_count": 167,
   "metadata": {},
   "outputs": [],
   "source": [
    "form['file'] = '/Users/tonyhirst/notebooks/Untitled.ipynb'\n",
    "r = br.submit_selected()"
   ]
  },
  {
   "cell_type": "code",
   "execution_count": 170,
   "metadata": {},
   "outputs": [],
   "source": [
    "form=br.select_form('#stageForm')"
   ]
  },
  {
   "cell_type": "code",
   "execution_count": 171,
   "metadata": {},
   "outputs": [],
   "source": [
    "form.set(\"title\", \"dummy notebook\")\n",
    "form.set(\"description\", \"dummy desc\")\n",
    "form.set(\"tags\", \"dummytag1,dummytag2\")\n",
    "form.set_checkbox({'agree':True})"
   ]
  },
  {
   "cell_type": "code",
   "execution_count": 172,
   "metadata": {},
   "outputs": [
    {
     "data": {
      "text/plain": [
       "<Response [200]>"
      ]
     },
     "execution_count": 172,
     "metadata": {},
     "output_type": "execute_result"
    }
   ],
   "source": [
    "br.submit_selected()"
   ]
  },
  {
   "cell_type": "code",
   "execution_count": 164,
   "metadata": {},
   "outputs": [
    {
     "data": {
      "text/plain": [
       "<bound method Browser.get of <mechanicalsoup.stateful_browser.StatefulBrowser object at 0x111117da0>>"
      ]
     },
     "execution_count": 164,
     "metadata": {},
     "output_type": "execute_result"
    }
   ],
   "source": []
  },
  {
   "cell_type": "code",
   "execution_count": null,
   "metadata": {},
   "outputs": [],
   "source": [
    "#br.form.add_file(open(filename), 'text/plain', filename)"
   ]
  },
  {
   "cell_type": "code",
   "execution_count": 65,
   "metadata": {},
   "outputs": [
    {
     "ename": "SyntaxError",
     "evalue": "invalid syntax (<ipython-input-65-5efd909a68b7>, line 1)",
     "output_type": "error",
     "traceback": [
      "\u001b[0;36m  File \u001b[0;32m\"<ipython-input-65-5efd909a68b7>\"\u001b[0;36m, line \u001b[0;32m1\u001b[0m\n\u001b[0;31m    f.add_file?#(open(filename), 'text/plain', filename)\u001b[0m\n\u001b[0m              ^\u001b[0m\n\u001b[0;31mSyntaxError\u001b[0m\u001b[0;31m:\u001b[0m invalid syntax\n"
     ]
    }
   ],
   "source": [
    "#br.form.add_file(open(filename), 'text/plain', filename)"
   ]
  },
  {
   "cell_type": "code",
   "execution_count": 24,
   "metadata": {},
   "outputs": [],
   "source": [
    "wp=s.get_current_page()\n",
    "\n",
    "#Click upload button\n",
    "#uploadModalButton"
   ]
  },
  {
   "cell_type": "code",
   "execution_count": 30,
   "metadata": {},
   "outputs": [
    {
     "data": {
      "text/plain": [
       "<form accept-charset=\"UTF-8\" action=\"/stages\" data-toggle=\"validator\" enctype=\"multipart/form-data\" id=\"uploadFileForm\" method=\"post\" role=\"form\"><input name=\"utf8\" type=\"hidden\" value=\"✓\"/><input name=\"authenticity_token\" type=\"hidden\" value=\"u4gJaeieRe9f+SfzdIyV2Md12PJOqEi+a98qwrXQDG2IIN/sBtLkiC3WIcgVe/u8cb1i/4+1pZQgq9T/o00IZg==\"/><div class=\"alert alert-danger text-center\" hidden=\"true\" id=\"uploadErrorWarning\"></div><div class=\"form-group has-feedback\"><div class=\"input-group\"><span class=\"input-group-addon upload-addon\">Notebook</span><input accept=\".ipynb\" class=\"form-control\" id=\"uploadFile\" name=\"file\" required=\"\" type=\"file\"/></div><span aria-hidden=\"true\" class=\"glyphicon form-control-feedback\"></span></div><div class=\"form-group\"><div class=\"alert alert-info agree\"><div class=\"checkbox\"><label><input name=\"agree\" required=\"\" type=\"checkbox\" value=\"yes\"/><p>I acknowledge that I have all intellectual property rights and approvals (if applicable) \n",
       "<br/>\n",
       "for the content contained within this notebook.  \n",
       "</p><p>Also I acknowledge that the nbgallery will remove all output from my notebook and will only save the code and markup sections</p></label></div></div></div><div class=\"modal-footer\"><div class=\"form-group\"><div style=\"float:right\"><button class=\"btn btn-primary\" id=\"uploadFileSubmit\" type=\"submit\">Next</button></div></div><div id=\"uploadFeedbackProgressBar\"></div></div></form>"
      ]
     },
     "execution_count": 30,
     "metadata": {},
     "output_type": "execute_result"
    }
   ],
   "source": [
    "wp.find(\"form\", { \"id\":\"uploadFileForm\"})#.find('table')"
   ]
  },
  {
   "cell_type": "code",
   "execution_count": 32,
   "metadata": {},
   "outputs": [
    {
     "ename": "TypeError",
     "evalue": "'NoneType' object is not callable",
     "output_type": "error",
     "traceback": [
      "\u001b[0;31m---------------------------------------------------------------------------\u001b[0m",
      "\u001b[0;31mTypeError\u001b[0m                                 Traceback (most recent call last)",
      "\u001b[0;32m<ipython-input-32-87c548ed306e>\u001b[0m in \u001b[0;36m<module>\u001b[0;34m()\u001b[0m\n\u001b[0;32m----> 1\u001b[0;31m \u001b[0mwp\u001b[0m\u001b[0;34m.\u001b[0m\u001b[0mselect_form\u001b[0m\u001b[0;34m(\u001b[0m\u001b[0;34m'#uploadFileForm'\u001b[0m\u001b[0;34m)\u001b[0m \u001b[0;31m#in form: #loginForm\u001b[0m\u001b[0;34m\u001b[0m\u001b[0m\n\u001b[0m\u001b[1;32m      2\u001b[0m \u001b[0;31m#The following are the form name attributes\u001b[0m\u001b[0;34m\u001b[0m\u001b[0;34m\u001b[0m\u001b[0m\n\u001b[1;32m      3\u001b[0m \u001b[0;31m#s[\"user[email]\"] = USERNAME\u001b[0m\u001b[0;34m\u001b[0m\u001b[0;34m\u001b[0m\u001b[0m\n\u001b[1;32m      4\u001b[0m \u001b[0mwp\u001b[0m\u001b[0;34m.\u001b[0m\u001b[0mfind_control\u001b[0m\u001b[0;34m(\u001b[0m\u001b[0mtype\u001b[0m\u001b[0;34m=\u001b[0m\u001b[0;34m\"checkbox\"\u001b[0m\u001b[0;34m)\u001b[0m\u001b[0;31m#.selected =True\u001b[0m\u001b[0;34m\u001b[0m\u001b[0m\n\u001b[1;32m      5\u001b[0m \u001b[0;31m#r\u001b[0m\u001b[0;34m\u001b[0m\u001b[0;34m\u001b[0m\u001b[0m\n",
      "\u001b[0;31mTypeError\u001b[0m: 'NoneType' object is not callable"
     ]
    }
   ],
   "source": [
    "wp.select_form('#uploadFileForm') #in form: #loginForm\n",
    "#The following are the form name attributes\n",
    "#s[\"user[email]\"] = USERNAME\n",
    "wp.find_control(type=\"checkbox\")#.selected =True\n",
    "#r\n",
    "#resp = browser.submit_selected()"
   ]
  },
  {
   "cell_type": "code",
   "execution_count": null,
   "metadata": {},
   "outputs": [],
   "source": []
  },
  {
   "cell_type": "code",
   "execution_count": null,
   "metadata": {},
   "outputs": [],
   "source": [
    "#br.form.add_file(open(filename), 'text/plain', filename)\n",
    "\n",
    "\n",
    "resp = browser.submit_selected()"
   ]
  },
  {
   "cell_type": "markdown",
   "metadata": {},
   "source": [
    "Multistage form:\n",
    "\n",
    "- stages\n",
    "- preprocess\n",
    "- tags\n",
    "- notebook\n",
    "\n"
   ]
  },
  {
   "cell_type": "markdown",
   "metadata": {},
   "source": [
    "## PART 1\n",
    "\n",
    "<center><h4 class=\"modal-title\">Upload Notebook - Part 1 of 2</h4></center></div><div class=\"modal-body\"><form id=\"uploadFileForm\" enctype=\"multipart/form-data\" data-toggle=\"validator\" role=\"form\" action=\"/stages\" accept-charset=\"UTF-8\" method=\"post\"><input name=\"utf8\" type=\"hidden\" value=\"&#x2713;\" /><input type=\"hidden\" name=\"authenticity_token\" value=\"1IStKrUcnIJiafjRp/8Q8DV9UVg0sgfdD7ZshiYE/T3Sd2jweDbEWJR0yMF/ppXpq2B00d0gCQaJ2MV3jJ22hA==\" /><div class=\"alert alert-danger text-center\" hidden=\"true\" id=\"uploadErrorWarning\"></div><div class=\"form-group has-feedback\"><div class=\"input-group\"><span class=\"input-group-addon upload-addon\">Notebook</span><input accept=\".ipynb\" class=\"form-control\" id=\"uploadFile\" name=\"file\" required=\"\" type=\"file\" /></div><span aria-hidden=\"true\" class=\"glyphicon form-control-feedback\"></span></div><div class=\"form-group\"><div class=\"alert alert-info agree\"><div class=\"checkbox\"><label><input name=\"agree\" required=\"\" type=\"checkbox\" value=\"yes\" /><p>I acknowledge that I have all intellectual property rights and approvals (if applicable) \n",
    "<br>\n",
    "for the content contained within this notebook.  \n",
    "</p><p>Also I acknowledge that the nbgallery will remove all output from my notebook and will only save the code and markup sections</p></label></div></div></div><div class=\"modal-footer\"><div class=\"form-group\"><div style=\"float:right\"><button class=\"btn btn-primary\" id=\"uploadFileSubmit\" type=\"submit\">Next</button>"
   ]
  },
  {
   "cell_type": "markdown",
   "metadata": {},
   "source": [
    "## PART 2\n",
    "\n",
    "<center><h4 class=\"modal-title\">Upload Notebook - Part 2 of 2</h4></center></div><div class=\"modal-body\"><form id=\"stageForm\" enctype=\"multipart/form-data\" data-toggle=\"validator\" role=\"form\" action=\"/notebooks\" accept-charset=\"UTF-8\" method=\"post\"><input name=\"utf8\" type=\"hidden\" value=\"&#x2713;\" /><input type=\"hidden\" name=\"authenticity_token\" value=\"9raDXnD+F3ds4h+aQlggJS2m0tq/BClr+W9qzaMBsxjwRUaEvdRPrZr/L4qaAaU8s7v3U1aWJ7B/AcM8CZj4oQ==\" /><div class=\"alert alert-danger text-center\" hidden=\"true\" id=\"stageErrorWarning\"></div><div class=\"form-group has-feedback\"><div class=\"input-group\"><span class=\"input-group-addon upload-addon\">Notebook</span><input class=\"form-control\" id=\"stagedName\" name=\"staged\" readonly=\"\" type=\"text\" value=\"\" /></div><span aria-hidden=\"true\" class=\"glyphicon form-control-feedback\"></span></div><div class=\"form-group has-feedback\"><div class=\"input-group\"><span class=\"input-group-addon upload-addon\">Title</span><input class=\"form-control\" id=\"stageTitle\" name=\"title\" placeholder=\"Enter a title for your notebook\" required=\"\" type=\"text\" /></div><div class=\"help-block with-errors\"></div><span aria-hidden=\"true\" class=\"glyphicon form-control-feedback\"></span></div><div class=\"form-group\" hidden=\"true\" id=\"stageOverwrite\"><div class=\"alert alert-danger overwrite\"><div class=\"checkbox\"><label><input name=\"overwrite\" type=\"checkbox\" value=\"true\" /><b>Overwrite this notebook</b></label></div></div></div><div class=\"form-group has-feedback\"><div class=\"input-group\"><span class=\"input-group-addon upload-addon\">Description</span><textarea class=\"form-control\" id=\"stageDescription\" name=\"description\" placeholder=\"Enter a description of this notebook\" required=\"\"></textarea></div><div class=\"help-block with-errors\"></div><span aria-hidden=\"true\" class=\"glyphicon form-control-feedback\"></span></div><div class=\"form-group\"><div class=\"input-group\"><span class=\"input-group-addon upload-addon\">Ownership</span><select class=\"form-control\" id=\"stageOwnership\" name=\"owner\"><option value=\"self\">Myself</option></select></div></div><div class=\"form-group\"><div class=\"input-group\" data-toggle=\"tooltip\" title=\"Enter tags here\"><span class=\"input-group-addon upload-addon\">Tags</span><input class=\"form-control\" id=\"stageTags\" name=\"tags\" type=\"text\" /></div></div><div class=\"form-group\"><div class=\"checkbox\"><label><input id=\"stagePrivate\" name=\"private\" type=\"checkbox\" value=\"true\" />This notebook is private (optional)</label></div></div><input id=\"stagingId\" name=\"staging_id\" type=\"hidden\" value=\"\" /><div class=\"form-group\"><div class=\"alert alert-info agree\"><div class=\"checkbox\"><label><input name=\"agree\" required=\"\" type=\"checkbox\" value=\"yes\" /><p>I acknowledge that I have all intellectual property rights and approvals (if applicable) \n",
    "<br>\n",
    "for the content contained within this notebook.  \n",
    "</p><p>Also I acknowledge that the nbgallery will remove all output from my notebook and will only save the code and markup sections</p></label></div></div></div><div class=\"modal-footer\"><div class=\"form-group\"><div style=\"float:right\"><button class=\"btn btn-primary\" id=\"stageSubmit\" type=\"submit\">Submit</button></div></div><div id=\"stageFeedbackProgressBar\"></div></div></form>"
   ]
  },
  {
   "cell_type": "raw",
   "metadata": {},
   "source": [
    "curl 'http://localhost:3000/notebooks/4-sfs' -H 'Connection: keep-alive' -H 'Upgrade-Insecure-Requests: 1' -H 'DNT: 1' -H 'User-Agent: Mozilla/5.0 (Macintosh; Intel Mac OS X 10_13_6) AppleWebKit/537.36 (KHTML, like Gecko) Chrome/70.0.3538.110 Safari/537.36' -H 'Accept: text/html,application/xhtml+xml,application/xml;q=0.9,image/webp,image/apng,*/*;q=0.8' -H 'Referer: http://localhost:3000/notebooks/3-tesd' -H 'Accept-Encoding: gzip, deflate, br' -H 'Accept-Language: en-US,en;q=0.9' -H 'Cookie: _xsrf=2|d3a53387|f4cb6517674e957b0f0bdf072d676208|1547211073; username-localhost-8888=\"2|1:0|10:1547211134|23:username-localhost-8888|44:Nzc2ODg5ZDQyYjU2NDdhMTk5M2VlMmYwMTliNTI4MDU=|73e07fb8e5374796fd205de243015c055e6686255ed1bb8868b850af28e7dc32\"; host=.butterfly; home_viewed=1547669814; _jupyter-gallery_session=RTVRbzFJWjRzc0EyZUxYeVpyRkRSdG9ucElFM3lvSE5ERGl3V21jd2JXU1dFM0E4VmFwdm1RbXdKb3NzRnE3WXRjVTF1UXRsY2xwbXAvUUQwclZacUFLWStScmpNRTRnYjV2eEsvc013WElkNzZLem54c3R5M3F6RFdtMm8weGVlRzhLWmVWdGtBSmFVN3NwbkJ2aXNzU3BTdm1ndFJ2cTZKRnZxWnZYSkFjREFDOXcrVEJrOW1QSENTcnNBZ3BPR2RnS3pLY0hLMVVlSFhiaVhGNFNPL245ZER5RmlFTDlNUklWb3Z3R1Y5RXBBeng3elB3TUNvZXFDUUdBdkxqZXdvSnZWRFJrY3pjWko1K2JBaWVLbmJXak5tamFDVFRvb21sTkJkZUhwNVkxWldPVGpxam1MaHdPc3F6eGx4NWstLVVIa3BBdFJtRWx3ZVZldnhOYko0THc9PQ%3D%3D--cf9f049229c03ed5baf699ca612417046f3e2c8a' --compressed ;\n",
    "\n",
    "\n",
    "\n",
    "curl 'http://localhost:3000/stages' -X POST -H 'Cookie: _xsrf=2|d3a53387|f4cb6517674e957b0f0bdf072d676208|1547211073; username-localhost-8888=\"2|1:0|10:1547211134|23:username-localhost-8888|44:Nzc2ODg5ZDQyYjU2NDdhMTk5M2VlMmYwMTliNTI4MDU=|73e07fb8e5374796fd205de243015c055e6686255ed1bb8868b850af28e7dc32\"; host=.butterfly; home_viewed=1547669814; _jupyter-gallery_session=cHNOcFJiTHNkZGdjdGVzV0xLanFvOG5XNW41SThyamh6dWhPZEZNMlBoMkVwK05kU1d0cmZvUE9LTWxNNlNkbWcxNWltdGo1Y0hpaHVXb0JMWHlhUVIvMEVoSUphWlVzUUd1ak9jOWdwWWg2Z1lQZUkxbjU3N0tKMXVEYm9iMzRqSWNVZ0RzRlRhZE85SUlha053TmRjWkY5eXd4TDRwcjVZWVJ5dDlaRHFRaGhncUtnTlI4MWtrdVJSclVJbkhvdC9xazNzQjR2bHFVV0xKaFJHRVZjVjNvcUk0TWxDSHZOUE5qQTA0OHFvVUFocFYyM0xSRC8zSWQ2MkJ1VWo0VjZid3JzN2VTdzdWK25aeWVFMldHbStMaWNjYzA1QUlBREJXUlVMSDNER1h5N2FjSkw3RDQwdGRiaFdPY3AyQVAtLStyaDVQTU5Gb0xLS3hZVmJqOFRETUE9PQ%3D%3D--3940fc4cfef7b7b75f95e414fcf01a06e577e912' -H 'Origin: http://localhost:3000' -H 'Accept-Encoding: gzip, deflate, br' -H 'X-CSRF-Token: Id0UKstNSDZx+bkGSOkDqpHRpLU+RJKeSUTwNBiZNxAnLtHwBmcQ7IfkiRaQsIazD8yBPNfWnEXPKlnFsgB8qQ==' -H 'Accept-Language: en-US,en;q=0.9' -H 'User-Agent: Mozilla/5.0 (Macintosh; Intel Mac OS X 10_13_6) AppleWebKit/537.36 (KHTML, like Gecko) Chrome/70.0.3538.110 Safari/537.36' -H 'Content-Type: multipart/form-data; boundary=----WebKitFormBoundaryz389yaDTcGKyBqQm' -H 'Accept: */*' -H 'Referer: http://localhost:3000/notebooks/3-tesd' -H 'X-Requested-With: XMLHttpRequest' -H 'Connection: keep-alive' -H 'Content-Length: 586538' -H 'DNT: 1' --compressed ;\n",
    "\n",
    "\n",
    "\n",
    "curl 'http://localhost:3000/stages/fb0ca8f6-3ff9-41b6-88c8-edb0e0d2b9a7/preprocess' -H 'Cookie: _xsrf=2|d3a53387|f4cb6517674e957b0f0bdf072d676208|1547211073; username-localhost-8888=\"2|1:0|10:1547211134|23:username-localhost-8888|44:Nzc2ODg5ZDQyYjU2NDdhMTk5M2VlMmYwMTliNTI4MDU=|73e07fb8e5374796fd205de243015c055e6686255ed1bb8868b850af28e7dc32\"; host=.butterfly; home_viewed=1547669814; _jupyter-gallery_session=SlA4d1dUQUV3K0UwTFVlN1FTN1RSdm1obis5Wng2cmNhNkNzMVFZWWlDQWd1SHV5dktXaWhxd21sV1BsNW5tZlpRSkVBZEY0OFY0MWliS2VhdWFpaFJ1UUNIYlRiUzhZWkdQRzdZYmc5VUVpK1hKY2pnT2N5d0M3SkV0Qk1hOUVNQksyM1BRQWt5OWJTTHR6OGVmNTNiS1Y5bTBiWWZKUmhvUmRBenZMdnQxZ1RYbnhRTlRzTFhoN0pvWHJJR1o0YzNucy9CQ24vK0YyTVRoNVFHMlZCc1hYdzRWUTZVNXUzWFAvejFCRVdrWTJZVHJyU1NFejFxdU9tWjhkc0pjTHk5SEJRdVA3alFRU0FiZTU1VytKN2J1TDNKRmxRUjhQY1lTOUJwMS81MXNTNXpaUUhNbTJJdXV2WUd0aGJabGwtLTZjWkRkNmtPbTltdlhJcnJoNGVvaGc9PQ%3D%3D--d91feb64721a2ea09b9d535ac5416fdb66b4e8ea' -H 'DNT: 1' -H 'Accept-Encoding: gzip, deflate, br' -H 'X-CSRF-Token: Id0UKstNSDZx+bkGSOkDqpHRpLU+RJKeSUTwNBiZNxAnLtHwBmcQ7IfkiRaQsIazD8yBPNfWnEXPKlnFsgB8qQ==' -H 'Accept-Language: en-US,en;q=0.9' -H 'User-Agent: Mozilla/5.0 (Macintosh; Intel Mac OS X 10_13_6) AppleWebKit/537.36 (KHTML, like Gecko) Chrome/70.0.3538.110 Safari/537.36' -H 'Accept: application/json' -H 'Referer: http://localhost:3000/notebooks/3-tesd' -H 'X-Requested-With: XMLHttpRequest' -H 'Connection: keep-alive' --compressed ;\n",
    "\n",
    "\n",
    "\n",
    "curl 'http://localhost:3000/tags' -H 'Cookie: _xsrf=2|d3a53387|f4cb6517674e957b0f0bdf072d676208|1547211073; username-localhost-8888=\"2|1:0|10:1547211134|23:username-localhost-8888|44:Nzc2ODg5ZDQyYjU2NDdhMTk5M2VlMmYwMTliNTI4MDU=|73e07fb8e5374796fd205de243015c055e6686255ed1bb8868b850af28e7dc32\"; host=.butterfly; home_viewed=1547669814; _jupyter-gallery_session=M2ZlMDM4ejl5V1poMDBkd0sxWmJJRDh0Mit2UzlsbU5SOTZTeXBGNTJNNW5UUEVKa2Y3MEMvUms0bW5UNHl0OWoxQ1pVRUtIWTN2ZkVPaVpmRUxhL1lPbW03aTJobUdQQnNiNGVEMXpzMWQzVVd1eUxUNFErWmZ4ZElSUkg1aEZ5eUY5SytEYSsyWUZtSXU5L2x2b0p0TDR4a3h3N0xPb0Q5d1lTN0RyOG9raDVoa2gyc3UweHN4OGU0NHB5amRLOXpKMUlpUUNnSUh2REFTTkRRK3RCZGt3SWNZV3JDZS92Ly82U2I3bSsyR1c2VlJ2L3Q1bG9xWW0wM091R05TRUtkckpvUmVweTJlTi9QZEY2blQ0aHE0UUZyeXlZOVR0T2Y5bEVEMXdpM2FROXlQeE5jc0l2RzlTckhDbzdiWDAtLVJ6R1luM0pDcEYvVm5IcUtMNkVyT1E9PQ%3D%3D--6d662299581e0f99ebc2aa8bd41eb08f8ce08a93' -H 'DNT: 1' -H 'Accept-Encoding: gzip, deflate, br' -H 'X-CSRF-Token: Id0UKstNSDZx+bkGSOkDqpHRpLU+RJKeSUTwNBiZNxAnLtHwBmcQ7IfkiRaQsIazD8yBPNfWnEXPKlnFsgB8qQ==' -H 'Accept-Language: en-US,en;q=0.9' -H 'User-Agent: Mozilla/5.0 (Macintosh; Intel Mac OS X 10_13_6) AppleWebKit/537.36 (KHTML, like Gecko) Chrome/70.0.3538.110 Safari/537.36' -H 'Accept: application/json' -H 'Referer: http://localhost:3000/notebooks/3-tesd' -H 'X-Requested-With: XMLHttpRequest' -H 'If-None-Match: W/\"d751713988987e9331980363e24189ce\"' -H 'Connection: keep-alive' --compressed ;\n",
    "\n",
    "\n",
    "\n",
    "curl 'http://localhost:3000/assets/images/ui-bg_highlight-soft_100_eeeeee_1x100.png' -H 'DNT: 1' -H 'Accept-Encoding: gzip, deflate, br' -H 'Accept-Language: en-US,en;q=0.9' -H 'User-Agent: Mozilla/5.0 (Macintosh; Intel Mac OS X 10_13_6) AppleWebKit/537.36 (KHTML, like Gecko) Chrome/70.0.3538.110 Safari/537.36' -H 'Accept: image/webp,image/apng,image/*,*/*;q=0.8' -H 'Referer: http://localhost:3000/assets/application-ffa3df68632b1ad85efd4685b2c250772406e5fd588d8c278041469ee99a0526.css' -H 'Cookie: _xsrf=2|d3a53387|f4cb6517674e957b0f0bdf072d676208|1547211073; username-localhost-8888=\"2|1:0|10:1547211134|23:username-localhost-8888|44:Nzc2ODg5ZDQyYjU2NDdhMTk5M2VlMmYwMTliNTI4MDU=|73e07fb8e5374796fd205de243015c055e6686255ed1bb8868b850af28e7dc32\"; host=.butterfly; home_viewed=1547669814; _jupyter-gallery_session=TUJCWHdIeWpYRUxZZGNtTkRKcUc4dVMwVzZRcXpwY0lPUmxld21sOGN1Y1d6RVppQ0k1S0txdjFyZVJNeHhwbk5xR2xiY0tNcWRmU2trdWRDb0VWeFFDNTlKR0Y5b01IYVBFTWxBMnFxOWxXaktIRkNoK3lOVUtyd2dUckNUbVlSVHh2aTU1VWJwYlU1T1p3cXdRYXZJRkplL3lqS3M1MHdkcW9CdWhRKzBTL0xXbXhWRXBCTVk2Vy9Lb3BER0lxWE82UWtlRDM2eW9RcVhBU2JnRndHUDdFWnJLSXI3czlUb0xFeG82MEF5S0F1ZDFwWWF2NE5NeFFZSDJjSWZEdkNKTjU0UGVYME1vaDBKUHBNeEpPSER2UG5LdUpQRDdqK3k1RVIyc0hkb2Zzd3BVMnhJRVQ0TVg2TFBuNGdkY1MtLUgzeVJYTVl4TWo2b0NtZE9RSytLanc9PQ%3D%3D--80a4ec63738c87cca4cf90e4c55b31dc5ff0304a' -H 'Connection: keep-alive' --compressed ;\n",
    "\n",
    "\n",
    "\n",
    "curl 'http://localhost:3000/notebooks' -H 'Cookie: _xsrf=2|d3a53387|f4cb6517674e957b0f0bdf072d676208|1547211073; username-localhost-8888=\"2|1:0|10:1547211134|23:username-localhost-8888|44:Nzc2ODg5ZDQyYjU2NDdhMTk5M2VlMmYwMTliNTI4MDU=|73e07fb8e5374796fd205de243015c055e6686255ed1bb8868b850af28e7dc32\"; host=.butterfly; home_viewed=1547669814; _jupyter-gallery_session=TUJCWHdIeWpYRUxZZGNtTkRKcUc4dVMwVzZRcXpwY0lPUmxld21sOGN1Y1d6RVppQ0k1S0txdjFyZVJNeHhwbk5xR2xiY0tNcWRmU2trdWRDb0VWeFFDNTlKR0Y5b01IYVBFTWxBMnFxOWxXaktIRkNoK3lOVUtyd2dUckNUbVlSVHh2aTU1VWJwYlU1T1p3cXdRYXZJRkplL3lqS3M1MHdkcW9CdWhRKzBTL0xXbXhWRXBCTVk2Vy9Lb3BER0lxWE82UWtlRDM2eW9RcVhBU2JnRndHUDdFWnJLSXI3czlUb0xFeG82MEF5S0F1ZDFwWWF2NE5NeFFZSDJjSWZEdkNKTjU0UGVYME1vaDBKUHBNeEpPSER2UG5LdUpQRDdqK3k1RVIyc0hkb2Zzd3BVMnhJRVQ0TVg2TFBuNGdkY1MtLUgzeVJYTVl4TWo2b0NtZE9RSytLanc9PQ%3D%3D--80a4ec63738c87cca4cf90e4c55b31dc5ff0304a' -H 'Origin: http://localhost:3000' -H 'Accept-Encoding: gzip, deflate, br' -H 'X-CSRF-Token: Id0UKstNSDZx+bkGSOkDqpHRpLU+RJKeSUTwNBiZNxAnLtHwBmcQ7IfkiRaQsIazD8yBPNfWnEXPKlnFsgB8qQ==' -H 'Accept-Language: en-US,en;q=0.9' -H 'User-Agent: Mozilla/5.0 (Macintosh; Intel Mac OS X 10_13_6) AppleWebKit/537.36 (KHTML, like Gecko) Chrome/70.0.3538.110 Safari/537.36' -H 'Content-Type: multipart/form-data; boundary=----WebKitFormBoundaryCw6eZsEA0AIxw8vG' -H 'Accept: */*' -H 'Referer: http://localhost:3000/notebooks/3-tesd' -H 'X-Requested-With: XMLHttpRequest' -H 'Connection: keep-alive' -H 'DNT: 1' --data-binary $'------WebKitFormBoundaryCw6eZsEA0AIxw8vG\\r\\nContent-Disposition: form-data; name=\"utf8\"\\r\\n\\r\\n✓\\r\\n------WebKitFormBoundaryCw6eZsEA0AIxw8vG\\r\\nContent-Disposition: form-data; name=\"authenticity_token\"\\r\\n\\r\\nId0UKstNSDZx+bkGSOkDqpHRpLU+RJKeSUTwNBiZNxAnLtHwBmcQ7IfkiRaQsIazD8yBPNfWnEXPKlnFsgB8qQ==\\r\\n------WebKitFormBoundaryCw6eZsEA0AIxw8vG\\r\\nContent-Disposition: form-data; name=\"staged\"\\r\\n\\r\\nfb0ca8f6-3ff9-41b6-88c8-edb0e0d2b9a7\\r\\n------WebKitFormBoundaryCw6eZsEA0AIxw8vG\\r\\nContent-Disposition: form-data; name=\"title\"\\r\\n\\r\\nsfs\\r\\n------WebKitFormBoundaryCw6eZsEA0AIxw8vG\\r\\nContent-Disposition: form-data; name=\"description\"\\r\\n\\r\\ndesc\\r\\n------WebKitFormBoundaryCw6eZsEA0AIxw8vG\\r\\nContent-Disposition: form-data; name=\"owner\"\\r\\n\\r\\nself\\r\\n------WebKitFormBoundaryCw6eZsEA0AIxw8vG\\r\\nContent-Disposition: form-data; name=\"tags\"\\r\\n\\r\\n\\r\\n------WebKitFormBoundaryCw6eZsEA0AIxw8vG\\r\\nContent-Disposition: form-data; name=\"staging_id\"\\r\\n\\r\\nfb0ca8f6-3ff9-41b6-88c8-edb0e0d2b9a7\\r\\n------WebKitFormBoundaryCw6eZsEA0AIxw8vG\\r\\nContent-Disposition: form-data; name=\"agree\"\\r\\n\\r\\nyes\\r\\n------WebKitFormBoundaryCw6eZsEA0AIxw8vG--\\r\\n' --compressed ;\n"
   ]
  },
  {
   "cell_type": "code",
   "execution_count": null,
   "metadata": {},
   "outputs": [],
   "source": [
    "FORM DATA:\n",
    "    \n",
    "    utf8: ✓\n",
    "authenticity_token: Id0UKstNSDZx bkGSOkDqpHRpLU RJKeSUTwNBiZNxAnLtHwBmcQ7IfkiRaQsIazD8yBPNfWnEXPKlnFsgB8qQ==\n",
    "staged: fb0ca8f6-3ff9-41b6-88c8-edb0e0d2b9a7\n",
    "title: sfs\n",
    "description: desc\n",
    "owner: self\n",
    "tags: \n",
    "staging_id: fb0ca8f6-3ff9-41b6-88c8-edb0e0d2b9a7\n",
    "agree: yes"
   ]
  }
 ],
 "metadata": {
  "kernelspec": {
   "display_name": "Python 3",
   "language": "python",
   "name": "python3"
  },
  "language_info": {
   "codemirror_mode": {
    "name": "ipython",
    "version": 3
   },
   "file_extension": ".py",
   "mimetype": "text/x-python",
   "name": "python",
   "nbconvert_exporter": "python",
   "pygments_lexer": "ipython3",
   "version": "3.7.0"
  }
 },
 "nbformat": 4,
 "nbformat_minor": 2
}
