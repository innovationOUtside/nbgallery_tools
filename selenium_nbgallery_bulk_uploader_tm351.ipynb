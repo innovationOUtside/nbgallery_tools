{
 "cells": [
  {
   "cell_type": "markdown",
   "metadata": {},
   "source": [
    "# `nbgallery` Bulk Uploader - TM351\n",
    "\n",
    "Quick hack to automate the uploading of notebooks to `nbgallery`.\n",
    "\n",
    "Uses `selenium` (I couldn't get `mechanize` / `mechanical soup` to work?)."
   ]
  },
  {
   "cell_type": "code",
   "execution_count": 56,
   "metadata": {},
   "outputs": [],
   "source": [
    "from selenium import webdriver\n",
    "\n",
    "#Selenium package includes several utilitities\n",
    "# for waiting until things are ready\n",
    "#https://selenium-python.readthedocs.io/waits.html\n",
    "from selenium.webdriver.common.by import By\n",
    "from selenium.webdriver.support.ui import WebDriverWait\n",
    "from selenium.webdriver.support import expected_conditions as EC\n"
   ]
  },
  {
   "cell_type": "code",
   "execution_count": 57,
   "metadata": {},
   "outputs": [],
   "source": [
    "driver = webdriver.Chrome()\n",
    "\n",
    "#Allow the driver to poll the DOM for up to 10s when\n",
    "# trying to find an element\n",
    "driver.implicitly_wait(10)\n",
    "\n",
    "#We might also want to explicitly define wait conditions\n",
    "# on a particular element\n",
    "wait = WebDriverWait(driver, 10)\n",
    "\n",
    "driver.get(\"http://localhost:3000/\")"
   ]
  },
  {
   "cell_type": "code",
   "execution_count": 4,
   "metadata": {},
   "outputs": [],
   "source": [
    "#Close the browser with:\n",
    "#driver.close()"
   ]
  },
  {
   "cell_type": "markdown",
   "metadata": {},
   "source": [
    "## Login"
   ]
  },
  {
   "cell_type": "code",
   "execution_count": 1,
   "metadata": {},
   "outputs": [],
   "source": [
    "NBGALLERY_EMAIL=''\n",
    "NBGALLERY_PASSWORD=''"
   ]
  },
  {
   "cell_type": "code",
   "execution_count": 59,
   "metadata": {},
   "outputs": [],
   "source": [
    "def nbgallery_login(driver, wait, user, pwd):\n",
    "    ''' Login to nbgallery.\n",
    "        Return once the login dialogue has disappeared.\n",
    "    '''\n",
    "    \n",
    "    driver.find_element_by_id(\"gearDropdown\").click()\n",
    "    \n",
    "    element = driver.find_element_by_id(\"user_email\")\n",
    "    element.click()\n",
    "    \n",
    "    element.clear()\n",
    "    element.send_keys(user)\n",
    "    \n",
    "    element = driver.find_element_by_id(\"user_password\")\n",
    "    element.clear()\n",
    "    element.send_keys(pwd)\n",
    "    element.click()\n",
    "    \n",
    "    driver.find_element_by_xpath(\"//input[@value='Login']\").click()\n",
    "    \n",
    "    #Wait until the login has been accepted\n",
    "    #May be better to check for presence of logged in indicator?\n",
    "    #A crude way would be to test for presence of /Logout/ in page\n",
    "    #Alternatively, is a new page is loaded following a login?\n",
    "    wait.until(EC.invisibility_of_element_located((By.ID, 'user_email')))\n",
    "    "
   ]
  },
  {
   "cell_type": "markdown",
   "metadata": {},
   "source": [
    "## Bulk Uploader\n"
   ]
  },
  {
   "cell_type": "code",
   "execution_count": 60,
   "metadata": {},
   "outputs": [],
   "source": [
    "def nbgallery_upload(driver, wait,\n",
    "                     path, title='', desc='', tags=None, private=False):\n",
    "    ''' Upload a notebook.\n",
    "        Return once the notebook page has loaded.\n",
    "    '''\n",
    "\n",
    "    #path is full path to file\n",
    "    if not path.endswith('.ipynb'):\n",
    "        print('Not a notebook (.ipynb) file? [{}]'.format(path))\n",
    "        return\n",
    "    \n",
    "    #Part 1\n",
    "    \n",
    "    element = wait.until(EC.element_to_be_clickable((By.ID, 'uploadModalButton')))\n",
    "    element.click()\n",
    "    \n",
    "    driver.find_element_by_id(\"uploadFile\").send_keys(path);\n",
    "    driver.find_element_by_xpath('//*[@id=\"uploadFileForm\"]/div[3]/div/div/label/input').click()\n",
    "    driver.find_element_by_id(\"uploadFileSubmit\").click()\n",
    "    \n",
    "    \n",
    "    #Part 2\n",
    "    element = driver.find_element_by_id(\"stageTitle\")\n",
    "    element.click()\n",
    "    \n",
    "    \n",
    "    #Is there notebook metadata we can search for title?\n",
    "    if not title:\n",
    "        title = path.split('/')[-1].replace('.ipynb','')\n",
    "    element.clear()\n",
    "    element.send_keys(title)\n",
    "    \n",
    "    element = driver.find_element_by_id(\"stageDescription\")\n",
    "    element.click()\n",
    "    \n",
    "    #Is there notebook metadata we can search for description?\n",
    "    #Any other notebook metadata we could make use of here?\n",
    "    element.clear()\n",
    "    #Description needs to be not null\n",
    "    desc= 'No description.' if not desc else desc\n",
    "    element.send_keys(desc)\n",
    "    \n",
    "    element = driver.find_element_by_id(\"stageTags-tokenfield\")\n",
    "    element.click()\n",
    "    \n",
    "    #Handle various tagging styles\n",
    "    #Is there notebook metadata we can search for tags?\n",
    "    tags = '' if not tags else tags\n",
    "    if isinstance(tags, list):\n",
    "        tags=','.join(tags)\n",
    "    tags = tags if tags.endswith(',') else tags+','\n",
    "    \n",
    "    element.clear()\n",
    "    element.send_keys(tags) #need the final comma to set it?\n",
    "    \n",
    "    if private:\n",
    "        driver.find_element_by_id(\"stagePrivate\").click()\n",
    "        \n",
    "    driver.find_element_by_xpath('//*[@id=\"stageForm\"]/div[9]/div/div/label/input').click()\n",
    "    driver.find_element_by_id(\"stageSubmit\").click()\n",
    "    \n",
    "    #https://blog.codeship.com/get-selenium-to-wait-for-page-load/\n",
    "    #Wait for new page to load\n",
    "    wait.until(EC.staleness_of(driver.find_element_by_tag_name('html')))\n"
   ]
  },
  {
   "cell_type": "markdown",
   "metadata": {},
   "source": [
    "## Bulk Upload\n",
    "\n"
   ]
  },
  {
   "cell_type": "code",
   "execution_count": 3,
   "metadata": {},
   "outputs": [
    {
     "data": {
      "text/plain": [
       "['/Users/tonyhirst/Documents/GitHub/tm351-undercertainty/notebooks/tm351/Part 20 Notebooks',\n",
       " '/Users/tonyhirst/Documents/GitHub/tm351-undercertainty/notebooks/tm351/Part 15 Notebooks',\n",
       " '/Users/tonyhirst/Documents/GitHub/tm351-undercertainty/notebooks/tm351/Part 01 Notebooks']"
      ]
     },
     "execution_count": 3,
     "metadata": {},
     "output_type": "execute_result"
    }
   ],
   "source": [
    "import os\n",
    "\n",
    "d = '/Users/tonyhirst/Documents/GitHub/tm351-undercertainty/notebooks/tm351'\n",
    "\n",
    "nbdirs = [os.path.join(d, o) for o in os.listdir(d) \n",
    "                             if os.path.isdir(os.path.join(d,o))\n",
    "                              and o.startswith('Part ') and o.endswith('Notebooks')]\n",
    "nbdirs[:3]"
   ]
  },
  {
   "cell_type": "code",
   "execution_count": 4,
   "metadata": {},
   "outputs": [
    {
     "data": {
      "text/plain": [
       "('/Users/tonyhirst/Documents/GitHub/tm351-undercertainty/notebooks/tm351/Part 20 Notebooks',\n",
       " ['20.1 The k-nearest neighbours classifier.ipynb',\n",
       "  '20.2 The leave-one-out algorithm.ipynb',\n",
       "  'data'])"
      ]
     },
     "execution_count": 4,
     "metadata": {},
     "output_type": "execute_result"
    }
   ],
   "source": [
    "#Peek at files in a subdir\n",
    "nbsubdir = nbdirs[0]\n",
    "nbs=os.listdir(nbsubdir)\n",
    "nbsubdir, nbs"
   ]
  },
  {
   "cell_type": "code",
   "execution_count": 5,
   "metadata": {},
   "outputs": [
    {
     "data": {
      "text/plain": [
       "['/Users/tonyhirst/Documents/GitHub/tm351-undercertainty/notebooks/tm351/Part 20 Notebooks/20.1 The k-nearest neighbours classifier.ipynb',\n",
       " '/Users/tonyhirst/Documents/GitHub/tm351-undercertainty/notebooks/tm351/Part 20 Notebooks/20.2 The leave-one-out algorithm.ipynb']"
      ]
     },
     "execution_count": 5,
     "metadata": {},
     "output_type": "execute_result"
    }
   ],
   "source": [
    "#Get individual file paths\n",
    "#Also need to check file starts with a digit to eg ignore \"old ...\"\n",
    "fps = [os.path.join(nbsubdir, nb) for nb in nbs \n",
    "     if os.path.isfile(os.path.join(nbsubdir, nb)) and nb.endswith('ipynb')\n",
    "          and nb[0].isdigit()]\n",
    "fps"
   ]
  },
  {
   "cell_type": "code",
   "execution_count": 68,
   "metadata": {},
   "outputs": [
    {
     "name": "stdout",
     "output_type": "stream",
     "text": [
      "/Users/tonyhirst/Documents/GitHub/tm351-undercertainty/notebooks/tm351/Part 20 Notebooks \n",
      " Part_20 \n",
      " ['/Users/tonyhirst/Documents/GitHub/tm351-undercertainty/notebooks/tm351/Part 20 Notebooks/20.1 The k-nearest neighbours classifier.ipynb', '/Users/tonyhirst/Documents/GitHub/tm351-undercertainty/notebooks/tm351/Part 20 Notebooks/20.2 The leave-one-out algorithm.ipynb'] \n",
      "\n",
      "\n",
      "/Users/tonyhirst/Documents/GitHub/tm351-undercertainty/notebooks/tm351/Part 15 Notebooks \n",
      " Part_15 \n",
      " ['/Users/tonyhirst/Documents/GitHub/tm351-undercertainty/notebooks/tm351/Part 15 Notebooks/15.4solutions.ipynb', '/Users/tonyhirst/Documents/GitHub/tm351-undercertainty/notebooks/tm351/Part 15 Notebooks/15.3solutions.ipynb', '/Users/tonyhirst/Documents/GitHub/tm351-undercertainty/notebooks/tm351/Part 15 Notebooks/15.5 Investigating accident rates.ipynb', '/Users/tonyhirst/Documents/GitHub/tm351-undercertainty/notebooks/tm351/Part 15 Notebooks/15.2solutions.ipynb', '/Users/tonyhirst/Documents/GitHub/tm351-undercertainty/notebooks/tm351/Part 15 Notebooks/15.5solutions.ipynb', '/Users/tonyhirst/Documents/GitHub/tm351-undercertainty/notebooks/tm351/Part 15 Notebooks/15.4 Allocating accidents to roads.ipynb', '/Users/tonyhirst/Documents/GitHub/tm351-undercertainty/notebooks/tm351/Part 15 Notebooks/15.1solutions.ipynb', '/Users/tonyhirst/Documents/GitHub/tm351-undercertainty/notebooks/tm351/Part 15 Notebooks/15.1 Mapping accidents.ipynb', '/Users/tonyhirst/Documents/GitHub/tm351-undercertainty/notebooks/tm351/Part 15 Notebooks/15.3 Roads.ipynb', '/Users/tonyhirst/Documents/GitHub/tm351-undercertainty/notebooks/tm351/Part 15 Notebooks/15.2 Aggregation pipeline.ipynb'] \n",
      "\n",
      "\n"
     ]
    }
   ],
   "source": [
    "#Neater\n",
    "\n",
    "for nbsubdir in nbdirs[:2]:\n",
    "    nbs=os.listdir(nbsubdir)\n",
    "    fps = [os.path.join(nbsubdir, nb) for nb in nbs \n",
    "             if os.path.isfile(os.path.join(nbsubdir, nb)) and nb.endswith('.ipynb')]\n",
    "    tag= '_'.join(nbsubdir.split('/')[-1].split()[:2])\n",
    "\n",
    "    print(nbsubdir,'\\n', tag,'\\n', fps, '\\n\\n')"
   ]
  },
  {
   "cell_type": "code",
   "execution_count": 71,
   "metadata": {},
   "outputs": [],
   "source": [
    "#Open browser\n",
    "driver = webdriver.Chrome()\n",
    "driver.implicitly_wait(10)\n",
    "wait = WebDriverWait(driver, 10)\n",
    "\n",
    "driver.get(\"http://localhost:3000/\")\n",
    "\n",
    "#Login\n",
    "nbgallery_login(driver, wait, NBGALLERY_EMAIL, NBGALLERY_PASSWORD)\n",
    "\n",
    "#Upload two notebooks, one after the other\n",
    "#nbgallery_upload(driver, wait, '/Users/tonyhirst/notebooks/Untitled.ipynb')\n",
    "#nbgallery_upload(driver, wait, '/Users/tonyhirst/notebooks/Untitled2.ipynb')\n",
    "for nbsubdir in nbdirs:\n",
    "    nbs=os.listdir(nbsubdir)\n",
    "    fps = [os.path.join(nbsubdir, nb) for nb in nbs \n",
    "             if os.path.isfile(os.path.join(nbsubdir, nb)) and nb.endswith('.ipynb')]\n",
    "    tag= '_'.join(nbsubdir.split('/')[-1].split()[:2])\n",
    "    for fp in fps:\n",
    "        nbgallery_upload(driver, wait, fp, tags=tag )\n",
    "    \n",
    "#Close browser\n",
    "driver.close()"
   ]
  },
  {
   "cell_type": "code",
   "execution_count": 70,
   "metadata": {},
   "outputs": [],
   "source": [
    "driver.close()"
   ]
  },
  {
   "cell_type": "code",
   "execution_count": null,
   "metadata": {},
   "outputs": [],
   "source": []
  }
 ],
 "metadata": {
  "kernelspec": {
   "display_name": "Python 3",
   "language": "python",
   "name": "python3"
  },
  "language_info": {
   "codemirror_mode": {
    "name": "ipython",
    "version": 3
   },
   "file_extension": ".py",
   "mimetype": "text/x-python",
   "name": "python",
   "nbconvert_exporter": "python",
   "pygments_lexer": "ipython3",
   "version": "3.7.0"
  }
 },
 "nbformat": 4,
 "nbformat_minor": 2
}
