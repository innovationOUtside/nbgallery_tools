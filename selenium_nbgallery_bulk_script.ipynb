{
 "cells": [
  {
   "cell_type": "markdown",
   "metadata": {},
   "source": [
    "# `nbgallery` Script Example\n",
    "\n",
    "Example of how we might use notebook to create a script for recording screencasts."
   ]
  },
  {
   "cell_type": "code",
   "execution_count": 8,
   "metadata": {},
   "outputs": [],
   "source": [
    "from selenium import webdriver\n",
    "\n",
    "#Selenium package includes several utilitities\n",
    "# for waiting until things are ready\n",
    "#https://selenium-python.readthedocs.io/waits.html\n",
    "from selenium.webdriver.common.by import By\n",
    "from selenium.webdriver.support.ui import WebDriverWait\n",
    "from selenium.webdriver.support import expected_conditions as EC\n"
   ]
  },
  {
   "cell_type": "code",
   "execution_count": 9,
   "metadata": {},
   "outputs": [],
   "source": [
    "driver = webdriver.Chrome()\n",
    "\n",
    "#Allow the driver to poll the DOM for up to 10s when\n",
    "# trying to find an element\n",
    "driver.implicitly_wait(10)\n",
    "\n",
    "#We might also want to explicitly define wait conditions\n",
    "# on a particular element\n",
    "wait = WebDriverWait(driver, 10)\n",
    "\n",
    "driver.get(\"http://localhost:3000/\")"
   ]
  },
  {
   "cell_type": "code",
   "execution_count": 10,
   "metadata": {},
   "outputs": [],
   "source": [
    "#Close the browser with:\n",
    "#driver.close()"
   ]
  },
  {
   "cell_type": "code",
   "execution_count": 11,
   "metadata": {},
   "outputs": [],
   "source": [
    "#https://gist.github.com/dariodiaz/3104601\n",
    "import time\n",
    "\n",
    "def highlight(element, sleep=1.0):\n",
    "    \"\"\"Highlights (blinks) a Selenium Webdriver element\"\"\"\n",
    "    driver = element._parent\n",
    "    def apply_style(s):\n",
    "        driver.execute_script(\"arguments[0].setAttribute('style', arguments[1]);\",\n",
    "                              element, s)\n",
    "    original_style = element.get_attribute('style')\n",
    "    apply_style(\"background: yellow; border: 2px solid red;\")\n",
    "    time.sleep(sleep)\n",
    "    apply_style(original_style)"
   ]
  },
  {
   "cell_type": "code",
   "execution_count": 19,
   "metadata": {},
   "outputs": [],
   "source": [
    "NBGALLERY_EMAIL='tony.hirst@gmail.com'\n",
    "NBGALLERY_PASSWORD='letmein1'"
   ]
  },
  {
   "cell_type": "markdown",
   "metadata": {},
   "source": [
    "## Login Script Example"
   ]
  },
  {
   "cell_type": "markdown",
   "metadata": {},
   "source": [
    "### Step 1\n",
    "\n",
    "The first thing we need to do is log in.\n",
    "\n",
    "Select the person icon at the top right of the screen."
   ]
  },
  {
   "cell_type": "code",
   "execution_count": 20,
   "metadata": {},
   "outputs": [],
   "source": [
    "element = driver.find_element_by_id(\"gearDropdown\")\n",
    "highlight(element)\n",
    "element.click()"
   ]
  },
  {
   "cell_type": "markdown",
   "metadata": {},
   "source": [
    "### Step 2\n",
    "\n",
    "When you click on the icon, a login dialogue is raised.\n",
    "\n",
    "Click in the `user_email` text box..."
   ]
  },
  {
   "cell_type": "code",
   "execution_count": 21,
   "metadata": {},
   "outputs": [],
   "source": [
    "element = driver.find_element_by_id(\"user_email\")\n",
    "highlight(element)"
   ]
  },
  {
   "cell_type": "markdown",
   "metadata": {},
   "source": [
    "and enter the email address you registered in `nbgallery` with.\n",
    "\n",
    "(This will probably be your OU email address.)"
   ]
  },
  {
   "cell_type": "code",
   "execution_count": 22,
   "metadata": {},
   "outputs": [],
   "source": [
    "element.click()\n",
    "element.clear()\n",
    "element.send_keys(NBGALLERY_EMAIL)\n",
    "highlight(element)"
   ]
  },
  {
   "cell_type": "code",
   "execution_count": 23,
   "metadata": {},
   "outputs": [],
   "source": [
    "element = driver.find_element_by_id(\"user_password\")\n",
    "element.clear()\n",
    "highlight(element)\n",
    "element.send_keys(NBGALLERY_PASSWORD)\n",
    "element.click()"
   ]
  },
  {
   "cell_type": "code",
   "execution_count": 24,
   "metadata": {},
   "outputs": [],
   "source": [
    "element = driver.find_element_by_xpath(\"//input[@value='Login']\")\n",
    "highlight(element)\n",
    "element.click()"
   ]
  },
  {
   "cell_type": "code",
   "execution_count": 15,
   "metadata": {},
   "outputs": [],
   "source": [
    "#driver.close()"
   ]
  },
  {
   "cell_type": "markdown",
   "metadata": {},
   "source": [
    "## Automate screenshot\n",
    "\n",
    "We can also automate screen captures for each step.\n",
    "\n",
    "For example:"
   ]
  },
  {
   "cell_type": "code",
   "execution_count": null,
   "metadata": {},
   "outputs": [],
   "source": [
    "import tempfile\n",
    "from IPython.display import Image\n",
    "\n",
    "#Create a temporary file for now\n",
    "imgfile = tempfile.mktemp(suffix='.png')\n",
    "\n",
    "#Get a browser element - this would be any old step\n",
    "driver.find_element_by_id(\"uploadModalButton\").click()\n",
    "\n",
    "#Grab a screenshot fo the browser\n",
    "driver.save_screenshot(imgfile)\n",
    "\n",
    "#Display the screenshot in the notebook\n",
    "Image(imgfile)"
   ]
  },
  {
   "cell_type": "code",
   "execution_count": null,
   "metadata": {},
   "outputs": [],
   "source": [
    "#"
   ]
  },
  {
   "cell_type": "markdown",
   "metadata": {},
   "source": [
    "## Text to speech\n",
    "\n",
    "Can we also automate the audio track from the script?\n",
    "\n",
    "[`pyttsx3`](https://pyttsx3.readthedocs.io/en/latest/) is a Python package that support cross-platform *text-to-speech*, albeit with not the best quality voice..."
   ]
  },
  {
   "cell_type": "code",
   "execution_count": 7,
   "metadata": {},
   "outputs": [],
   "source": [
    "#pyobjc supplies a dependency\n",
    "#!pip3 install pyobjc pyttsx3\n",
    "\n",
    "import pyttsx3\n",
    "engine = pyttsx3.init()\n",
    "\n",
    "def sayItToMe(txt):\n",
    "    ''' Simple text to speech. '''\n",
    "    engine.say(txt)\n",
    "    engine.runAndWait()"
   ]
  },
  {
   "cell_type": "code",
   "execution_count": null,
   "metadata": {},
   "outputs": [],
   "source": [
    "#We should be able to grab the contents of markdowns cells and use that?\n",
    "\n",
    "TXT = '''\n",
    "The first thing we need to do is log in.\n",
    "'''\n",
    "sayItToMe(TXT)\n",
    "\n",
    "\n",
    "TXT = '''\n",
    "Select the person icon at the top right of the screen.\n",
    "'''\n",
    "sayItToMe(TXT)\n",
    "\n",
    "element = driver.find_element_by_id(\"gearDropdown\")\n",
    "highlight(element)\n",
    "element.click()"
   ]
  },
  {
   "cell_type": "code",
   "execution_count": 32,
   "metadata": {},
   "outputs": [],
   "source": [
    "driver.close()"
   ]
  },
  {
   "cell_type": "code",
   "execution_count": null,
   "metadata": {},
   "outputs": [],
   "source": []
  }
 ],
 "metadata": {
  "kernelspec": {
   "display_name": "Python 3",
   "language": "python",
   "name": "python3"
  },
  "language_info": {
   "codemirror_mode": {
    "name": "ipython",
    "version": 3
   },
   "file_extension": ".py",
   "mimetype": "text/x-python",
   "name": "python",
   "nbconvert_exporter": "python",
   "pygments_lexer": "ipython3",
   "version": "3.7.0"
  }
 },
 "nbformat": 4,
 "nbformat_minor": 2
}
