{
 "cells": [
  {
   "cell_type": "markdown",
   "metadata": {},
   "source": [
    "# `nbgallery` Bulk Uploader\n",
    "\n",
    "Quick hack to automate the uploading of notebooks to `nbgallery`.\n",
    "\n",
    "Uses `selenium` (I couldn't get `mechanize` / `mechanical soup` to work?)."
   ]
  },
  {
   "cell_type": "code",
   "execution_count": 179,
   "metadata": {},
   "outputs": [],
   "source": [
    "from selenium import webdriver\n",
    "\n",
    "#Selenium package includes several utilitities\n",
    "# for waiting until things are ready\n",
    "#https://selenium-python.readthedocs.io/waits.html\n",
    "from selenium.webdriver.common.by import By\n",
    "from selenium.webdriver.support.ui import WebDriverWait\n",
    "from selenium.webdriver.support import expected_conditions as EC\n"
   ]
  },
  {
   "cell_type": "code",
   "execution_count": null,
   "metadata": {},
   "outputs": [],
   "source": [
    "driver = webdriver.Chrome()\n",
    "\n",
    "#Allow the driver to poll the DOM for up to 10s when\n",
    "# trying to find an element\n",
    "driver.implicitly_wait(10)\n",
    "\n",
    "#We might also want to explicitly define wait conditions\n",
    "# on a particular element\n",
    "wait = WebDriverWait(driver, 10)\n",
    "\n",
    "driver.get(\"http://localhost:3000/\")"
   ]
  },
  {
   "cell_type": "code",
   "execution_count": 178,
   "metadata": {},
   "outputs": [],
   "source": [
    "#Close the browser with:\n",
    "#driver.close()"
   ]
  },
  {
   "cell_type": "markdown",
   "metadata": {},
   "source": [
    "## Login"
   ]
  },
  {
   "cell_type": "code",
   "execution_count": 130,
   "metadata": {},
   "outputs": [],
   "source": [
    "NBGALLERY_EMAIL=''\n",
    "NBGALLERY_PASSWORD=''"
   ]
  },
  {
   "cell_type": "code",
   "execution_count": 131,
   "metadata": {},
   "outputs": [],
   "source": [
    "driver.find_element_by_id(\"gearDropdown\").click()\n",
    "\n",
    "element = driver.find_element_by_id(\"user_email\")"
   ]
  },
  {
   "cell_type": "code",
   "execution_count": 132,
   "metadata": {},
   "outputs": [],
   "source": [
    "element.click()\n",
    "element.clear()\n",
    "element.send_keys(NBGALLERY_EMAIL)"
   ]
  },
  {
   "cell_type": "code",
   "execution_count": 133,
   "metadata": {},
   "outputs": [],
   "source": [
    "element = driver.find_element_by_id(\"user_password\")\n",
    "element.clear()\n",
    "element.send_keys(NBGALLERY_PASSWORD)\n",
    "element.click()"
   ]
  },
  {
   "cell_type": "code",
   "execution_count": 134,
   "metadata": {},
   "outputs": [],
   "source": [
    "driver.find_element_by_xpath(\"//input[@value='Login']\").click()"
   ]
  },
  {
   "cell_type": "markdown",
   "metadata": {},
   "source": [
    "As a function..."
   ]
  },
  {
   "cell_type": "code",
   "execution_count": 195,
   "metadata": {},
   "outputs": [],
   "source": [
    "def nbgallery_login(driver, wait, user, pwd):\n",
    "    ''' Login to nbgallery.\n",
    "        Return once the login dialogue has disappeared.\n",
    "    '''\n",
    "    \n",
    "    driver.find_element_by_id(\"gearDropdown\").click()\n",
    "    \n",
    "    element = driver.find_element_by_id(\"user_email\")\n",
    "    element.click()\n",
    "    \n",
    "    element.clear()\n",
    "    element.send_keys(user)\n",
    "    \n",
    "    element = driver.find_element_by_id(\"user_password\")\n",
    "    element.clear()\n",
    "    element.send_keys(pwd)\n",
    "    element.click()\n",
    "    \n",
    "    driver.find_element_by_xpath(\"//input[@value='Login']\").click()\n",
    "    \n",
    "    #Wait until the login has been accepted\n",
    "    #May be better to check for presence of logged in indicator?\n",
    "    #A crude way would be to test for presence of /Logout/ in page\n",
    "    #Alternatively, is a new page is loaded following a login?\n",
    "    wait.until(EC.invisibility_of_element_located((By.ID, 'user_email')))\n",
    "    "
   ]
  },
  {
   "cell_type": "markdown",
   "metadata": {},
   "source": [
    "## Upload Part 1\n",
    "\n",
    "The upload is a two part process.\n",
    "\n",
    "In the first part, we identify the notebook file we want to upload.\n",
    "\n",
    "<div><img src='images/nbgallery1.png' style=\"height: 400px; padding: 20px\" /></div>\n",
    "\n",
    "The acknowledgements box needs to be checked in order to proceed.\n",
    "\n",
    "Note that a check in the page tests that the file has an `.ipynb` suffix, so we might also want to check for that too..."
   ]
  },
  {
   "cell_type": "code",
   "execution_count": 135,
   "metadata": {},
   "outputs": [],
   "source": [
    "driver.find_element_by_id(\"uploadModalButton\").click()"
   ]
  },
  {
   "cell_type": "code",
   "execution_count": 136,
   "metadata": {},
   "outputs": [],
   "source": [
    "driver.find_element_by_id(\"uploadFile\").send_keys(\"/Users/tonyhirst/notebooks/Untitled.ipynb\");"
   ]
  },
  {
   "cell_type": "code",
   "execution_count": 137,
   "metadata": {},
   "outputs": [],
   "source": [
    "driver.find_element_by_xpath('//*[@id=\"uploadFileForm\"]/div[3]/div/div/label/input').click()"
   ]
  },
  {
   "cell_type": "code",
   "execution_count": 138,
   "metadata": {},
   "outputs": [],
   "source": [
    "driver.find_element_by_id(\"uploadFileSubmit\").click()"
   ]
  },
  {
   "cell_type": "markdown",
   "metadata": {},
   "source": [
    "## Upload Part 2\n",
    "\n",
    "The second part of the upload process involves submitting compulsoty non-null *title* and *description* values. Again, the acknowledgements box needs to be checked in order to proceed.\n",
    "\n",
    "<div><img src='images/nbgallery2.png' style=\"height: 400px; padding: 20px\" /></div>\n"
   ]
  },
  {
   "cell_type": "code",
   "execution_count": 139,
   "metadata": {},
   "outputs": [],
   "source": [
    "element = driver.find_element_by_id(\"stageTitle\")\n",
    "element.click()\n",
    "element.send_keys(\"My title\")"
   ]
  },
  {
   "cell_type": "code",
   "execution_count": 140,
   "metadata": {},
   "outputs": [],
   "source": [
    "element = driver.find_element_by_id(\"stageDescription\")\n",
    "element.click()\n",
    "element.send_keys(\"My description\")"
   ]
  },
  {
   "cell_type": "code",
   "execution_count": 141,
   "metadata": {},
   "outputs": [],
   "source": [
    "element = driver.find_element_by_id(\"stageTags-tokenfield\")\n",
    "element.click()\n",
    "element.send_keys(\"tag1,tag2,\") #need the final comma to set it?"
   ]
  },
  {
   "cell_type": "code",
   "execution_count": 142,
   "metadata": {},
   "outputs": [],
   "source": [
    "#optional\n",
    "#driver.find_element_by_id(\"stagePrivate\").click()"
   ]
  },
  {
   "cell_type": "code",
   "execution_count": 143,
   "metadata": {},
   "outputs": [],
   "source": [
    "driver.find_element_by_xpath('//*[@id=\"stageForm\"]/div[9]/div/div/label/input').click()"
   ]
  },
  {
   "cell_type": "code",
   "execution_count": 144,
   "metadata": {},
   "outputs": [],
   "source": [
    "driver.find_element_by_id(\"stageSubmit\").click()"
   ]
  },
  {
   "cell_type": "markdown",
   "metadata": {
    "slideshow": {
     "slide_type": "slide"
    }
   },
   "source": [
    "If it's a duplicate notebook, we get an error page, with an extra item in the form that gives us the option to overwrite the original file:\n",
    "\n",
    "`<input name=\"overwrite\" type=\"checkbox\" value=\"true\">`\n",
    "\n",
    "Should try to check for this somehow? What would trigger the check?"
   ]
  },
  {
   "cell_type": "code",
   "execution_count": null,
   "metadata": {},
   "outputs": [],
   "source": [
    "driver.close()"
   ]
  },
  {
   "cell_type": "markdown",
   "metadata": {},
   "source": [
    "## Bulk Uploader\n",
    "\n",
    "Let's put the pieces together and create a bulk uploader..."
   ]
  },
  {
   "cell_type": "code",
   "execution_count": 202,
   "metadata": {},
   "outputs": [],
   "source": [
    "\n",
    "def nbgallery_upload(driver, wait,\n",
    "                     path, title='', desc='', tags=None, private=False):\n",
    "    ''' Upload a notebook.\n",
    "        Return once the notebook page has loaded.\n",
    "    '''\n",
    "\n",
    "    #path is full path to file\n",
    "    if not path.endswith('.ipynb'):\n",
    "        print('Not a notebook (.ipynb) file? [{}]'.format(path))\n",
    "        return\n",
    "    \n",
    "    #Part 1\n",
    "    \n",
    "    element = wait.until(EC.element_to_be_clickable((By.ID, 'uploadModalButton')))\n",
    "    element.click()\n",
    "    \n",
    "    driver.find_element_by_id(\"uploadFile\").send_keys(path);\n",
    "    driver.find_element_by_xpath('//*[@id=\"uploadFileForm\"]/div[3]/div/div/label/input').click()\n",
    "    driver.find_element_by_id(\"uploadFileSubmit\").click()\n",
    "    \n",
    "    \n",
    "    #Part 2\n",
    "    element = driver.find_element_by_id(\"stageTitle\")\n",
    "    element.click()\n",
    "    \n",
    "    \n",
    "    #Is there notebook metadata we can search for title?\n",
    "    if not title:\n",
    "        title = path.split('/')[-1].replace('.ipynb','')\n",
    "    element.clear()\n",
    "    element.send_keys(title)\n",
    "    \n",
    "    element = driver.find_element_by_id(\"stageDescription\")\n",
    "    element.click()\n",
    "    \n",
    "    #Is there notebook metadata we can search for description?\n",
    "    #Any other notebook metadata we could make use of here?\n",
    "    element.clear()\n",
    "    #Description needs to be not null\n",
    "    desc= 'No description.' if not desc else desc\n",
    "    element.send_keys(desc)\n",
    "    \n",
    "    element = driver.find_element_by_id(\"stageTags-tokenfield\")\n",
    "    element.click()\n",
    "    \n",
    "    #Handle various tagging styles\n",
    "    #Is there notebook metadata we can search for tags?\n",
    "    tags = '' if not tags else tags\n",
    "    if isinstance(tags, list):\n",
    "        tags=','.join(tags)\n",
    "    tags = tags if tags.endswith(',') else tags+','\n",
    "    \n",
    "    element.clear()\n",
    "    element.send_keys(tags) #need the final comma to set it?\n",
    "    \n",
    "    if private:\n",
    "        driver.find_element_by_id(\"stagePrivate\").click()\n",
    "        \n",
    "    driver.find_element_by_xpath('//*[@id=\"stageForm\"]/div[9]/div/div/label/input').click()\n",
    "    driver.find_element_by_id(\"stageSubmit\").click()\n",
    "    \n",
    "    #https://blog.codeship.com/get-selenium-to-wait-for-page-load/\n",
    "    #Wait for new page to load\n",
    "    wait.until(EC.staleness_of(driver.find_element_by_tag_name('html')))\n"
   ]
  },
  {
   "cell_type": "markdown",
   "metadata": {},
   "source": [
    "## Step wise check...\n",
    "\n",
    "Do the steps work?"
   ]
  },
  {
   "cell_type": "code",
   "execution_count": 165,
   "metadata": {},
   "outputs": [],
   "source": [
    "#Open browser\n",
    "driver = webdriver.Chrome()\n",
    "driver.implicitly_wait(10)\n",
    "wait = WebDriverWait(driver, 10)\n",
    "\n",
    "driver.get(\"http://localhost:3000/\")"
   ]
  },
  {
   "cell_type": "code",
   "execution_count": 166,
   "metadata": {},
   "outputs": [],
   "source": [
    "#Login\n",
    "nbgallery_login(driver, wait, NBGALLERY_EMAIL, NBGALLERY_PASSWORD)"
   ]
  },
  {
   "cell_type": "code",
   "execution_count": 170,
   "metadata": {},
   "outputs": [],
   "source": [
    "#Upload two notebooks, one after the other\n",
    "nbgallery_upload(driver, '/Users/tonyhirst/notebooks/nbgallery scraper.ipynb')\n",
    "nbgallery_upload(driver, '/Users/tonyhirst/notebooks/Untitled2.ipynb')\n"
   ]
  },
  {
   "cell_type": "code",
   "execution_count": 176,
   "metadata": {},
   "outputs": [],
   "source": [
    "#Close browser\n",
    "driver.close()"
   ]
  },
  {
   "cell_type": "markdown",
   "metadata": {},
   "source": [
    "## Full Check\n",
    "\n",
    "Do the steps work when run automatically, rather than manually stepped through?"
   ]
  },
  {
   "cell_type": "code",
   "execution_count": 204,
   "metadata": {},
   "outputs": [],
   "source": [
    "#Open browser\n",
    "driver = webdriver.Chrome()\n",
    "driver.implicitly_wait(10)\n",
    "wait = WebDriverWait(driver, 10)\n",
    "\n",
    "driver.get(\"http://localhost:3000/\")\n",
    "\n",
    "#Login\n",
    "nbgallery_login(driver, wait, NBGALLERY_EMAIL, NBGALLERY_PASSWORD)\n",
    "\n",
    "#Upload two notebooks, one after the other\n",
    "nbgallery_upload(driver, wait, '/Users/tonyhirst/notebooks/Untitled.ipynb')\n",
    "nbgallery_upload(driver, wait, '/Users/tonyhirst/notebooks/Untitled2.ipynb')\n",
    "\n",
    "#Close browser\n",
    "driver.close()"
   ]
  },
  {
   "cell_type": "code",
   "execution_count": null,
   "metadata": {},
   "outputs": [],
   "source": []
  }
 ],
 "metadata": {
  "kernelspec": {
   "display_name": "Python 3",
   "language": "python",
   "name": "python3"
  },
  "language_info": {
   "codemirror_mode": {
    "name": "ipython",
    "version": 3
   },
   "file_extension": ".py",
   "mimetype": "text/x-python",
   "name": "python",
   "nbconvert_exporter": "python",
   "pygments_lexer": "ipython3",
   "version": "3.7.0"
  }
 },
 "nbformat": 4,
 "nbformat_minor": 2
}
